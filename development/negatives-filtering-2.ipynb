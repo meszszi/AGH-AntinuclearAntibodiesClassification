{
 "cells": [
  {
   "cell_type": "code",
   "execution_count": 2,
   "metadata": {},
   "outputs": [],
   "source": [
    "import os\n",
    "import glob\n",
    "\n",
    "import sklearn\n",
    "import numpy as np\n",
    "import cv2 as cv\n",
    "import matplotlib.pyplot as plt\n",
    "from sklearn.model_selection import train_test_split\n",
    "from sklearn.svm import SVC\n",
    "from matplotlib.colors import ListedColormap\n",
    "\n",
    "from ana_classification import preprocess"
   ]
  },
  {
   "cell_type": "code",
   "execution_count": 3,
   "metadata": {},
   "outputs": [
    {
     "name": "stdout",
     "output_type": "stream",
     "text": [
      "\n",
      "System:\n",
      "    python: 3.7.5 (default, Dec 14 2019, 21:55:38)  [GCC 7.4.0]\n",
      "executable: /home/regzand/.pyenv/versions/aca-classification/bin/python\n",
      "   machine: Linux-4.15.0-72-generic-x86_64-with-debian-buster-sid\n",
      "\n",
      "Python dependencies:\n",
      "       pip: 19.3.1\n",
      "setuptools: 42.0.2\n",
      "   sklearn: 0.22\n",
      "     numpy: 1.17.4\n",
      "     scipy: 1.3.3\n",
      "    Cython: None\n",
      "    pandas: None\n",
      "matplotlib: 3.1.2\n",
      "    joblib: 0.14.1\n",
      "\n",
      "Built with OpenMP: True\n"
     ]
    }
   ],
   "source": [
    "sklearn.show_versions()"
   ]
  },
  {
   "cell_type": "markdown",
   "metadata": {},
   "source": [
    "### Data loading and processing"
   ]
  },
  {
   "cell_type": "code",
   "execution_count": 4,
   "metadata": {},
   "outputs": [
    {
     "name": "stdout",
     "output_type": "stream",
     "text": [
      "1196\n"
     ]
    },
    {
     "data": {
      "text/plain": [
       "['data/original/AMA/image0249.tif',\n",
       " 'data/original/AMA/AMA-1.tif',\n",
       " 'data/original/AMA/AMA-3.tif',\n",
       " 'data/original/AMA/image0248.tif',\n",
       " 'data/original/AMA/AMA-2.tif',\n",
       " 'data/original/nucleolar/image0038 - Copy.tif',\n",
       " 'data/original/nucleolar/image0049 - Copy.tif',\n",
       " 'data/original/nucleolar/image0048 - Copy.tif',\n",
       " 'data/original/nucleolar/image0260.tif',\n",
       " 'data/original/nucleolar/jaderka8.tif']"
      ]
     },
     "execution_count": 4,
     "metadata": {},
     "output_type": "execute_result"
    }
   ],
   "source": [
    "files = glob.glob('data/original/*/*')\n",
    "print(len(files))\n",
    "files[:10]"
   ]
  },
  {
   "cell_type": "code",
   "execution_count": 5,
   "metadata": {},
   "outputs": [
    {
     "data": {
      "text/plain": [
       "(180, 1016)"
      ]
     },
     "execution_count": 5,
     "metadata": {},
     "output_type": "execute_result"
    }
   ],
   "source": [
    "negatives_files = [f for f in files if 'NEG' in f]\n",
    "positives_files = [f for f in files if 'NEG' not in f]\n",
    "\n",
    "len(negatives_files), len(positives_files)"
   ]
  },
  {
   "cell_type": "code",
   "execution_count": 6,
   "metadata": {},
   "outputs": [
    {
     "name": "stdout",
     "output_type": "stream",
     "text": [
      "CPU times: user 13min 55s, sys: 1.17 s, total: 13min 57s\n",
      "Wall time: 3min 48s\n"
     ]
    },
    {
     "data": {
      "text/plain": [
       "((180, 600, 800), (1016, 600, 800))"
      ]
     },
     "execution_count": 6,
     "metadata": {},
     "output_type": "execute_result"
    }
   ],
   "source": [
    "%%time\n",
    "neg_imgs = np.array([preprocess(cv.imread(f), normalize=False, equalize=False) for f in negatives_files])\n",
    "pos_imgs = np.array([preprocess(cv.imread(f), normalize=False, equalize=False) for f in positives_files])\n",
    "\n",
    "neg_imgs.shape, pos_imgs.shape"
   ]
  },
  {
   "cell_type": "code",
   "execution_count": 7,
   "metadata": {},
   "outputs": [],
   "source": [
    "pos_means = np.mean(pos_imgs.reshape(pos_imgs.shape[0], -1), axis=1)\n",
    "neg_means = np.mean(neg_imgs.reshape(neg_imgs.shape[0], -1), axis=1)\n",
    "\n",
    "pos_stds = np.std(pos_imgs.reshape(pos_imgs.shape[0], -1), axis=1)\n",
    "neg_stds = np.std(neg_imgs.reshape(neg_imgs.shape[0], -1), axis=1)"
   ]
  },
  {
   "cell_type": "code",
   "execution_count": 8,
   "metadata": {},
   "outputs": [],
   "source": [
    "means = np.concatenate([neg_means, pos_means])\n",
    "stds = np.concatenate([neg_stds, pos_stds])\n",
    "\n",
    "x = np.column_stack([means, stds])\n",
    "y = np.array([0] * len(neg_imgs) + [1] * len(pos_imgs))\n",
    "\n",
    "x_train, x_test, y_train, y_test = train_test_split(x, y, test_size=0.3, random_state=1)"
   ]
  },
  {
   "cell_type": "markdown",
   "metadata": {},
   "source": [
    "### Data visualization"
   ]
  },
  {
   "cell_type": "code",
   "execution_count": 9,
   "metadata": {
    "code_folding": [],
    "scrolled": false
   },
   "outputs": [
    {
     "data": {
      "image/png": "[encoded data removed]",
      "text/plain": [
       "<Figure size 1080x432 with 2 Axes>"
      ]
     },
     "metadata": {
      "needs_background": "light"
     },
     "output_type": "display_data"
    }
   ],
   "source": [
    "f, a = plt.subplots(1, 2)\n",
    "f.set_size_inches(15, 6)\n",
    "\n",
    "for ax in a:\n",
    "    ax.scatter(neg_means, neg_stds, c='blue', s=3, label='negative samples')\n",
    "    ax.scatter(pos_means, pos_stds, c='red', s=3, label='positive samples')\n",
    "    ax.xaxis.set_label('mean pixel intentity')\n",
    "    ax.yaxis.set_label('pixel intensity std')\n",
    "    ax.legend()\n",
    "    \n",
    "a[1].set_xlim(-1, 15)\n",
    "a[1].set_ylim(0, 10)\n",
    "\n",
    "plt.show()"
   ]
  },
  {
   "cell_type": "markdown",
   "metadata": {},
   "source": [
    "### Data saving"
   ]
  },
  {
   "cell_type": "code",
   "execution_count": 10,
   "metadata": {},
   "outputs": [],
   "source": [
    "np.savez('neg-classifier-data.npz', x_train=x_train, y_train=y_train)"
   ]
  },
  {
   "cell_type": "markdown",
   "metadata": {},
   "source": [
    "### Data loading"
   ]
  },
  {
   "cell_type": "code",
   "execution_count": 11,
   "metadata": {},
   "outputs": [],
   "source": [
    "data = np.load('neg-classifier-data.npz')\n",
    "x_train = data['x_train']\n",
    "y_train = data['y_train']"
   ]
  },
  {
   "cell_type": "markdown",
   "metadata": {},
   "source": [
    "### Classifier"
   ]
  },
  {
   "cell_type": "code",
   "execution_count": 13,
   "metadata": {},
   "outputs": [
    {
     "data": {
      "text/plain": [
       "SVC(C=0.9, break_ties=False, cache_size=200, class_weight=None, coef0=0.0,\n",
       "    decision_function_shape='ovr', degree=2, gamma=0.35, kernel='poly',\n",
       "    max_iter=-1, probability=False, random_state=None, shrinking=True,\n",
       "    tol=0.001, verbose=False)"
      ]
     },
     "execution_count": 13,
     "metadata": {},
     "output_type": "execute_result"
    }
   ],
   "source": [
    "classifier = SVC(C=0.9, kernel='poly', degree=2, gamma=0.35)\n",
    "classifier.fit(x_train, y_train)"
   ]
  },
  {
   "cell_type": "markdown",
   "metadata": {},
   "source": [
    "### Decision boundary"
   ]
  },
  {
   "cell_type": "code",
   "execution_count": 15,
   "metadata": {},
   "outputs": [
    {
     "data": {
      "image/png": "[encoded data removed]",
      "text/plain": [
       "<Figure size 432x288 with 1 Axes>"
      ]
     },
     "metadata": {
      "needs_background": "light"
     },
     "output_type": "display_data"
    }
   ],
   "source": [
    "h = 0.05\n",
    "\n",
    "cmap_light = ListedColormap(['#AAAAFF', '#FFAAAA'])\n",
    "cmap_bold = ListedColormap(['#0000FF', '#FF0000'])\n",
    "\n",
    "x_min, x_max = -1, 15\n",
    "y_min, y_max = 0, 10\n",
    "\n",
    "xx, yy = np.meshgrid(np.arange(x_min, x_max, h),\n",
    "                     np.arange(y_min, y_max, h))\n",
    "Z = classifier.predict(np.c_[xx.ravel(), yy.ravel()])\n",
    "\n",
    "Z = Z.reshape(xx.shape)\n",
    "plt.pcolormesh(xx, yy, Z, cmap=cmap_light)\n",
    "\n",
    "plt.scatter(x[:, 0], x[:, 1], c=y, cmap=cmap_bold, s=4)\n",
    "\n",
    "plt.xlim(xx.min(), xx.max())\n",
    "plt.ylim(yy.min(), yy.max())\n",
    "plt.title('classifier decision boundary')\n",
    "plt.xlabel('mean')\n",
    "plt.ylabel('std')\n",
    "plt.show()"
   ]
  },
  {
   "cell_type": "markdown",
   "metadata": {},
   "source": [
    "### Results"
   ]
  },
  {
   "cell_type": "code",
   "execution_count": 17,
   "metadata": {},
   "outputs": [
    {
     "name": "stdout",
     "output_type": "stream",
     "text": [
      "train accuracy: 1.0\n",
      "test accuracy: 0.9972144846796658\n"
     ]
    }
   ],
   "source": [
    "train_preds = classifier.predict(x_train)\n",
    "test_preds = classifier.predict(x_test)\n",
    "\n",
    "train_acc = np.mean(train_preds == y_train)\n",
    "test_acc = np.mean(test_preds == y_test)\n",
    "\n",
    "print(f'train accuracy: {train_acc}')\n",
    "print(f'test accuracy: {test_acc}')"
   ]
  },
  {
   "cell_type": "code",
   "execution_count": null,
   "metadata": {},
   "outputs": [],
   "source": []
  }
 ],
 "metadata": {
  "kernelspec": {
   "display_name": "Python 3",
   "language": "python",
   "name": "python3"
  },
  "language_info": {
   "codemirror_mode": {
    "name": "ipython",
    "version": 3
   },
   "file_extension": ".py",
   "mimetype": "text/x-python",
   "name": "python",
   "nbconvert_exporter": "python",
   "pygments_lexer": "ipython3",
   "version": "3.7.5"
  },
  "toc": {
   "base_numbering": 1,
   "nav_menu": {},
   "number_sections": true,
   "sideBar": true,
   "skip_h1_title": true,
   "title_cell": "Table of Contents",
   "title_sidebar": "Contents",
   "toc_cell": false,
   "toc_position": {},
   "toc_section_display": true,
   "toc_window_display": true
  },
  "varInspector": {
   "cols": {
    "lenName": 16,
    "lenType": 16,
    "lenVar": 40
   },
   "kernels_config": {
    "python": {
     "delete_cmd_postfix": "",
     "delete_cmd_prefix": "del ",
     "library": "var_list.py",
     "varRefreshCmd": "print(var_dic_list())"
    },
    "r": {
     "delete_cmd_postfix": ") ",
     "delete_cmd_prefix": "rm(",
     "library": "var_list.r",
     "varRefreshCmd": "cat(var_dic_list()) "
    }
   },
   "types_to_exclude": [
    "module",
    "function",
    "builtin_function_or_method",
    "instance",
    "_Feature"
   ],
   "window_display": false
  }
 },
 "nbformat": 4,
 "nbformat_minor": 2
}
