{
 "cells": [
  {
   "cell_type": "code",
   "execution_count": 1,
   "metadata": {},
   "outputs": [],
   "source": [
    "%matplotlib inline\n",
    "import glob\n",
    "import cv2 as cv\n",
    "import os\n",
    "import numpy as np\n",
    "import matplotlib.pyplot as plt\n",
    "from tqdm import tqdm_notebook as tqdm"
   ]
  },
  {
   "cell_type": "code",
   "execution_count": 2,
   "metadata": {},
   "outputs": [],
   "source": [
    "def display_image(img, title=None, colorbar=True):\n",
    "    plt.title(title)\n",
    "    plt.imshow(img)\n",
    "    if colorbar:\n",
    "        plt.colorbar()\n",
    "    plt.figure(figsize=(3,3))\n",
    "    plt.show()"
   ]
  },
  {
   "cell_type": "code",
   "execution_count": 3,
   "metadata": {},
   "outputs": [],
   "source": [
    "def preprocess(img, denoise=5):\n",
    "    \n",
    "    # select only green channel\n",
    "    img = img[:,:,1]\n",
    "    \n",
    "    # denoise image (by default h=5, selected by trial and error)\n",
    "    img = cv.fastNlMeansDenoising(img, h=denoise)\n",
    "    \n",
    "    return img"
   ]
  },
  {
   "cell_type": "code",
   "execution_count": 4,
   "metadata": {},
   "outputs": [],
   "source": [
    "def preprocess_images(input_pathname, output_directory, **kwargs):\n",
    "    \n",
    "    # create output directory if needed\n",
    "    if not os.path.exists(output_directory):\n",
    "        os.makedirs(output_directory)\n",
    "    \n",
    "    # process files (with progress bar)\n",
    "    for file in tqdm(glob.glob(input_pathname), desc='Preprocessing images'):\n",
    "        # load file\n",
    "        img = cv.imread(file)\n",
    "        \n",
    "        # process image\n",
    "        img = preprocess(img, **kwargs)\n",
    "        \n",
    "        # save file\n",
    "        np.save(os.path.join(output_directory, os.path.basename(file).split('.')[0]), img)"
   ]
  },
  {
   "cell_type": "code",
   "execution_count": 5,
   "metadata": {},
   "outputs": [
    {
     "data": {
      "application/vnd.jupyter.widget-view+json": {
       "model_id": "a956d8cc9db140e68d81e9fe7de65025",
       "version_major": 2,
       "version_minor": 0
      },
      "text/plain": [
       "HBox(children=(IntProgress(value=0, description='Preprocessing images', max=16, style=ProgressStyle(descriptio…"
      ]
     },
     "metadata": {},
     "output_type": "display_data"
    },
    {
     "name": "stdout",
     "output_type": "stream",
     "text": [
      "\n"
     ]
    }
   ],
   "source": [
    "preprocess_images(\"input/*.png\", \"output\")"
   ]
  }
 ],
 "metadata": {
  "kernelspec": {
   "display_name": "Python 3",
   "language": "python",
   "name": "python3"
  },
  "language_info": {
   "codemirror_mode": {
    "name": "ipython",
    "version": 3
   },
   "file_extension": ".py",
   "mimetype": "text/x-python",
   "name": "python",
   "nbconvert_exporter": "python",
   "pygments_lexer": "ipython3",
   "version": "3.7.4"
  }
 },
 "nbformat": 4,
 "nbformat_minor": 2
}
